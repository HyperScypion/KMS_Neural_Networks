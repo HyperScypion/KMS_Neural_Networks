{
 "cells": [
  {
   "cell_type": "markdown",
   "metadata": {},
   "source": [
    "### Funkcja niezwracająca niczego"
   ]
  },
  {
   "cell_type": "code",
   "execution_count": 3,
   "metadata": {},
   "outputs": [
    {
     "name": "stdout",
     "output_type": "stream",
     "text": [
      "10 5\n"
     ]
    }
   ],
   "source": [
    "# Definicja funkcji\n",
    "def funkcja(a, b):\n",
    "    print(a, b)\n",
    "\n",
    "# Wywołanie funkcji\n",
    "funkcja(10, 5)"
   ]
  },
  {
   "cell_type": "markdown",
   "metadata": {},
   "source": [
    "### Funkcja zwracająca wyjście"
   ]
  },
  {
   "cell_type": "code",
   "execution_count": 10,
   "metadata": {},
   "outputs": [
    {
     "name": "stdout",
     "output_type": "stream",
     "text": [
      "10 5\n",
      "(10, 5) <class 'tuple'>\n",
      "10 5\n",
      "10 5 <class 'int'> <class 'int'>\n"
     ]
    }
   ],
   "source": [
    "def funkcja(a, b):\n",
    "    print(a, b)\n",
    "    return a, b\n",
    "\n",
    "# Zwrócenie tupli\n",
    "a = funkcja(10, 5)\n",
    "print(a, type(a))\n",
    "\n",
    "# Zwrócenie intów\n",
    "a, b = funkcja(10, 5)\n",
    "print(a, b, type(a), type(b))"
   ]
  },
  {
   "cell_type": "markdown",
   "metadata": {},
   "source": [
    "### Funkcja z tzw. type hint-ami"
   ]
  },
  {
   "cell_type": "code",
   "execution_count": 30,
   "metadata": {},
   "outputs": [
    {
     "name": "stdout",
     "output_type": "stream",
     "text": [
      "True <class 'bool'>\n"
     ]
    }
   ],
   "source": [
    "# Type hinty nie wpływają na to co funkcja przyjmuje czy też zwraca, ma natomiast pomóc nam debugować \n",
    "# błędnie napisany kod\n",
    "def funkcja2(a:int, b:float) -> bool:\n",
    "    if a > b:\n",
    "        return True\n",
    "    else:\n",
    "        return False\n",
    "    \n",
    "result = funkcja2(10, 5)\n",
    "print(result, type(result))"
   ]
  },
  {
   "cell_type": "markdown",
   "metadata": {},
   "source": [
    "### Funkcje zmiennej ilości argumentów"
   ]
  },
  {
   "cell_type": "code",
   "execution_count": 39,
   "metadata": {},
   "outputs": [
    {
     "name": "stdout",
     "output_type": "stream",
     "text": [
      "(3, 4, 5, 6, 7, 8, 9, 10)\n",
      "\n",
      "a + b = 3\n",
      "a = 1\n",
      "b = 2\n"
     ]
    }
   ],
   "source": [
    "# Zmienna c jest listą zmiennych, która przechowuje wszystkie argumenty przekazane funkcji poza pierwszymi dwoma \n",
    "# argumentam\n",
    "\n",
    "def funkcja(a, b, *c):\n",
    "    print(c, end='\\n\\n')\n",
    "    \n",
    "c = funkcja(1, 2, 3, 4, 5, 6, 7, 8, 9, 10)\n",
    "c\n",
    "\n",
    "# Argumenty do funkcji można przesyłać także za pomocą słów-kluczy, \n",
    "# dzięki czemu kolejność w jakiej zostały podane argumenty nie ma znaczenia:\n",
    "\n",
    "def funkcja(a, b, **c):\n",
    "    if c.get('akcja') == 'dodaj':\n",
    "        print('a + b =', a + b)\n",
    "    if c.get('opcja') == 'wypisz':\n",
    "        print('a = {}\\nb = {}'.format(a, b))\n",
    "        \n",
    "funkcja(1, 2, akcja='dodaj', opcja='wypisz')\n",
    "\n",
    "# Źródło: https://www.learnpython.org/pl/Funkcje_o_zmiennej_liczbie_argumentow"
   ]
  },
  {
   "cell_type": "markdown",
   "metadata": {},
   "source": [
    "### Często spotykane kwargs i args w kodzie jest niczym innym jak c w powyższym przykładzie"
   ]
  },
  {
   "cell_type": "code",
   "execution_count": 40,
   "metadata": {},
   "outputs": [],
   "source": [
    "# https://printpython.pl/poczatki/zadanie-z-gwiazdka/"
   ]
  }
 ],
 "metadata": {
  "kernelspec": {
   "display_name": "Python 3",
   "language": "python",
   "name": "python3"
  },
  "language_info": {
   "codemirror_mode": {
    "name": "ipython",
    "version": 3
   },
   "file_extension": ".py",
   "mimetype": "text/x-python",
   "name": "python",
   "nbconvert_exporter": "python",
   "pygments_lexer": "ipython3",
   "version": "3.7.3"
  }
 },
 "nbformat": 4,
 "nbformat_minor": 2
}
