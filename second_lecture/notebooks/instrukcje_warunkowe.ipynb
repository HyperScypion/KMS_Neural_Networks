{
 "cells": [
  {
   "cell_type": "markdown",
   "metadata": {},
   "source": [
    "# Instrukcje warunkowe"
   ]
  },
  {
   "cell_type": "code",
   "execution_count": 5,
   "metadata": {},
   "outputs": [],
   "source": [
    "# 1. IF - Jeśli zaszedł warunek a > b to wypisz a\n",
    "# 2. ELIF - Jeśli zaszedł warunek a < b to wypisz b\n",
    "# 3. ELSE - Jeśli zaszedł inny warunek niż 1. i 2. wypisz 0\n",
    "\n",
    "def wypisz(a, b):\n",
    "    if a > b:\n",
    "        print('Warunek pierwszy!', a)\n",
    "    elif a < b:\n",
    "        print('Warunek drugi', b)\n",
    "    else:\n",
    "        print('Warunek trzeci', 0)"
   ]
  },
  {
   "cell_type": "code",
   "execution_count": 6,
   "metadata": {},
   "outputs": [
    {
     "name": "stdout",
     "output_type": "stream",
     "text": [
      "Warunek pierwszy! 2\n"
     ]
    }
   ],
   "source": [
    "wypisz(2, 1)"
   ]
  },
  {
   "cell_type": "code",
   "execution_count": 7,
   "metadata": {},
   "outputs": [
    {
     "name": "stdout",
     "output_type": "stream",
     "text": [
      "Warunek drugi 2\n"
     ]
    }
   ],
   "source": [
    "wypisz(1, 2)"
   ]
  },
  {
   "cell_type": "code",
   "execution_count": 8,
   "metadata": {},
   "outputs": [
    {
     "name": "stdout",
     "output_type": "stream",
     "text": [
      "Warunek trzeci 0\n"
     ]
    }
   ],
   "source": [
    "wypisz(0, 0)"
   ]
  }
 ],
 "metadata": {
  "kernelspec": {
   "display_name": "Python 3",
   "language": "python",
   "name": "python3"
  },
  "language_info": {
   "codemirror_mode": {
    "name": "ipython",
    "version": 3
   },
   "file_extension": ".py",
   "mimetype": "text/x-python",
   "name": "python",
   "nbconvert_exporter": "python",
   "pygments_lexer": "ipython3",
   "version": "3.7.3"
  }
 },
 "nbformat": 4,
 "nbformat_minor": 2
}
