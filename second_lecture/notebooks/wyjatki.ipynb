{
 "cells": [
  {
   "cell_type": "markdown",
   "metadata": {},
   "source": [
    "# Przechwytywanie wyjątków"
   ]
  },
  {
   "cell_type": "code",
   "execution_count": 7,
   "metadata": {},
   "outputs": [],
   "source": [
    "def podziel(a, b):\n",
    "    # blok Try -> staramy się wykonać jakąś operację\n",
    "    try:\n",
    "        a / b\n",
    "    # gdy napotkamy na wyjatek wypisujemy informację zdefiniowaną przez nas\n",
    "    except:\n",
    "        print('Nie da sie podzielic')"
   ]
  },
  {
   "cell_type": "code",
   "execution_count": 8,
   "metadata": {},
   "outputs": [
    {
     "name": "stdout",
     "output_type": "stream",
     "text": [
      "Nie da sie podzielic\n"
     ]
    }
   ],
   "source": [
    "podziel(1, 0)"
   ]
  },
  {
   "cell_type": "code",
   "execution_count": 18,
   "metadata": {},
   "outputs": [],
   "source": [
    "def podziel(a, b):\n",
    "    # blok Try -> staramy się wykonać jakąś operację\n",
    "    try:\n",
    "        a / b\n",
    "    # gdy napotkamy na wyjatek 'ZeroDivisionError' wypisujemy informację \n",
    "    except ZeroDivisionError:\n",
    "        print('Nie da sie podzielic')"
   ]
  },
  {
   "cell_type": "code",
   "execution_count": 19,
   "metadata": {},
   "outputs": [
    {
     "name": "stdout",
     "output_type": "stream",
     "text": [
      "Nie da sie podzielic\n"
     ]
    }
   ],
   "source": [
    "podziel(1, 0)"
   ]
  },
  {
   "cell_type": "code",
   "execution_count": 21,
   "metadata": {},
   "outputs": [],
   "source": [
    "def podziel(a, b):\n",
    "    # blok Try -> staramy się wykonać jakąś operację\n",
    "    try:\n",
    "        a / b\n",
    "    # gdy napotkamy na wyjatek wypisujemy informację zdefiniowaną\n",
    "    except ZeroDivisionError as e:\n",
    "        print(e)"
   ]
  },
  {
   "cell_type": "code",
   "execution_count": 22,
   "metadata": {},
   "outputs": [
    {
     "name": "stdout",
     "output_type": "stream",
     "text": [
      "division by zero\n"
     ]
    }
   ],
   "source": [
    "podziel(1, 0)"
   ]
  },
  {
   "cell_type": "code",
   "execution_count": 25,
   "metadata": {},
   "outputs": [],
   "source": [
    "def podziel(a, b):\n",
    "    try:\n",
    "        a / b\n",
    "    \n",
    "    except:\n",
    "        print('Nie da sie podzielic')\n",
    "    # Na koniec bloku wykonaj działanie\n",
    "    finally:\n",
    "        print('Koniec')"
   ]
  },
  {
   "cell_type": "code",
   "execution_count": 26,
   "metadata": {},
   "outputs": [
    {
     "name": "stdout",
     "output_type": "stream",
     "text": [
      "Nie da sie podzielic\n",
      "Koniec\n"
     ]
    }
   ],
   "source": [
    "podziel(1, 0)"
   ]
  }
 ],
 "metadata": {
  "kernelspec": {
   "display_name": "Python 3",
   "language": "python",
   "name": "python3"
  },
  "language_info": {
   "codemirror_mode": {
    "name": "ipython",
    "version": 3
   },
   "file_extension": ".py",
   "mimetype": "text/x-python",
   "name": "python",
   "nbconvert_exporter": "python",
   "pygments_lexer": "ipython3",
   "version": "3.7.3"
  }
 },
 "nbformat": 4,
 "nbformat_minor": 2
}
