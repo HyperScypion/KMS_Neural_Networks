{
 "cells": [
  {
   "cell_type": "markdown",
   "metadata": {},
   "source": [
    "# Przechwytywanie wyjątków"
   ]
  },
  {
   "cell_type": "code",
   "execution_count": 7,
   "metadata": {},
   "outputs": [],
   "source": [
    "def podziel(a, b):\n",
    "    # blok Try -> staramy się wykonać jakąś operację\n",
    "    try:\n",
    "        a / b\n",
    "    # gdy napotkamy na wyjatek wypisujemy informację zdefiniowaną przez nas\n",
    "    except:\n",
    "        print('Nie da sie podzielic')"
   ]
  },
  {
   "cell_type": "code",
   "execution_count": 8,
   "metadata": {},
   "outputs": [
    {
     "name": "stdout",
     "output_type": "stream",
     "text": [
      "Nie da sie podzielic\n"
     ]
    }
   ],
   "source": [
    "podziel(1, 0)"
   ]
  },
  {
   "cell_type": "code",
   "execution_count": 18,
   "metadata": {},
   "outputs": [],
   "source": [
    "def podziel(a, b):\n",
    "    # blok Try -> staramy się wykonać jakąś operację\n",
    "    try:\n",
    "        a / b\n",
    "    # gdy napotkamy na wyjatek 'ZeroDivisionError' wypisujemy informację \n",
    "    except ZeroDivisionError:\n",
    "        print('Nie da sie podzielic')"
   ]
  },
  {
   "cell_type": "code",
   "execution_count": 19,
   "metadata": {},
   "outputs": [
    {
     "name": "stdout",
     "output_type": "stream",
     "text": [
      "Nie da sie podzielic\n"
     ]
    }
   ],
   "source": [
    "podziel(1, 0)"
   ]
  },
  {
   "cell_type": "code",
   "execution_count": 21,
   "metadata": {},
   "outputs": [],
   "source": [
    "def podziel(a, b):\n",
    "    # blok Try -> staramy się wykonać jakąś operację\n",
    "    try:\n",
    "        a / b\n",
    "    # gdy napotkamy na wyjatek wypisujemy informację zdefiniowaną\n",
    "    except ZeroDivisionError as e:\n",
    "        print(e)"
   ]
  },
  {
   "cell_type": "code",
   "execution_count": 22,
   "metadata": {},
   "outputs": [
    {
     "name": "stdout",
     "output_type": "stream",
     "text": [
      "division by zero\n"
     ]
    }
   ],
   "source": [
    "podziel(1, 0)"
   ]
  },
  {
   "cell_type": "code",
   "execution_count": 25,
   "metadata": {},
   "outputs": [],
   "source": [
    "def podziel(a, b):\n",
    "    try:\n",
    "        a / b\n",
    "    \n",
    "    except:\n",
    "        print('Nie da sie podzielic')\n",
    "    # Na koniec bloku wykonaj działanie\n",
    "    finally:\n",
    "        print('Koniec')"
   ]
  },
  {
   "cell_type": "code",
   "execution_count": 26,
   "metadata": {},
   "outputs": [
    {
     "name": "stdout",
     "output_type": "stream",
     "text": [
      "Nie da sie podzielic\n",
      "Koniec\n"
     ]
    }
   ],
   "source": [
    "podziel(1, 0)"
   ]
  },
  {
   "cell_type": "markdown",
   "metadata": {},
   "source": [
    "# Wymuszanie wyjątków"
   ]
  },
  {
   "cell_type": "code",
   "execution_count": 5,
   "metadata": {},
   "outputs": [
    {
     "ename": "SyntaxError",
     "evalue": "invalid syntax (<ipython-input-5-946f9bdc25c6>, line 3)",
     "output_type": "error",
     "traceback": [
      "\u001b[0;36m  File \u001b[0;32m\"<ipython-input-5-946f9bdc25c6>\"\u001b[0;36m, line \u001b[0;32m3\u001b[0m\n\u001b[0;31m    raise NameError, 'HejTam'\u001b[0m\n\u001b[0m                   ^\u001b[0m\n\u001b[0;31mSyntaxError\u001b[0m\u001b[0;31m:\u001b[0m invalid syntax\n"
     ]
    }
   ],
   "source": [
    "# Pierwszy argument instrukcji raise służy do podania nazwy wyjątku. \n",
    "# Opcjonalny drugi argument jest jego wartością (argumentem wyjątku). \n",
    "raise NameError, 'HejTam'\n",
    "\n",
    "# Źródło: https://pl.python.org/docs/tut/node10.html"
   ]
  },
  {
   "cell_type": "markdown",
   "metadata": {},
   "source": [
    "# Definiowanie własnych wyjątków"
   ]
  },
  {
   "cell_type": "code",
   "execution_count": 14,
   "metadata": {},
   "outputs": [],
   "source": [
    "# Klasa naszego wyjątku dziedziczy albo po głównej klasie Exception albo po innej klasie wyjątku, np RuntimeError\n",
    "class Wyjatek(Exception):\n",
    "    \n",
    "    def __init__(self, wartosc):\n",
    "        self.wartosc = wartosc\n",
    "        \n",
    "    def __str__(self):\n",
    "        return 'self.wartosc'"
   ]
  },
  {
   "cell_type": "code",
   "execution_count": 15,
   "metadata": {},
   "outputs": [
    {
     "name": "stdout",
     "output_type": "stream",
     "text": [
      "Zgłoszono nowy wyjątek o wartości: 100\n",
      "self.wartosc\n"
     ]
    }
   ],
   "source": [
    "a = 10\n",
    "try:\n",
    "    raise Wyjatek(a*a)         \n",
    "except Wyjatek as w:\n",
    "    print('Zgłoszono nowy wyjątek o wartości:', w.wartosc)\n",
    "    print(w.__str__())"
   ]
  }
 ],
 "metadata": {
  "kernelspec": {
   "display_name": "Python 3",
   "language": "python",
   "name": "python3"
  },
  "language_info": {
   "codemirror_mode": {
    "name": "ipython",
    "version": 3
   },
   "file_extension": ".py",
   "mimetype": "text/x-python",
   "name": "python",
   "nbconvert_exporter": "python",
   "pygments_lexer": "ipython3",
   "version": "3.7.3"
  }
 },
 "nbformat": 4,
 "nbformat_minor": 2
}
