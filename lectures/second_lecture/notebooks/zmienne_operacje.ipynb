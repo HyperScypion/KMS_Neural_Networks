{
 "cells": [
  {
   "cell_type": "markdown",
   "metadata": {},
   "source": [
    "# Podstawy Pythona"
   ]
  },
  {
   "cell_type": "markdown",
   "metadata": {},
   "source": [
    "## 1. Inicjalizacja zmiennych\n",
    "### Po więcej odsyłam tu: \n",
    "### https://docs.python.org/3.1/tutorial/datastructures.html\n",
    "### https://realpython.com/python-data-types/\n",
    "### https://docs.python.org/3/library/collections.html"
   ]
  },
  {
   "cell_type": "markdown",
   "metadata": {},
   "source": [
    "### Zmienna całkowitoliczbowa"
   ]
  },
  {
   "cell_type": "code",
   "execution_count": 4,
   "metadata": {},
   "outputs": [
    {
     "data": {
      "text/plain": [
       "5"
      ]
     },
     "execution_count": 4,
     "metadata": {},
     "output_type": "execute_result"
    }
   ],
   "source": [
    "# Inicjalizacja zmiennej całkowitoliczbowej\n",
    "a = 5\n",
    "a"
   ]
  },
  {
   "cell_type": "markdown",
   "metadata": {},
   "source": [
    "### Zmienna zmiennoprzecinkowa"
   ]
  },
  {
   "cell_type": "code",
   "execution_count": 5,
   "metadata": {},
   "outputs": [
    {
     "data": {
      "text/plain": [
       "2.54"
      ]
     },
     "execution_count": 5,
     "metadata": {},
     "output_type": "execute_result"
    }
   ],
   "source": [
    "# Inicjalizacja zmiennej zmiennoprzecinkowej, float, w Pythonie nie ma zmiennej typu double!\n",
    "b = 2.54\n",
    "b"
   ]
  },
  {
   "cell_type": "markdown",
   "metadata": {},
   "source": [
    "### Zmienna tekstowa"
   ]
  },
  {
   "cell_type": "code",
   "execution_count": 3,
   "metadata": {},
   "outputs": [
    {
     "name": "stdout",
     "output_type": "stream",
     "text": [
      "abc\n",
      "Wiecej c\n",
      "abcabcabcabcabcabcabcabcabcabcabcabcabcabcabcabcabcabcabcabcabcabcabcabcabcabcabcabcabcabcabcabcabcabcabcabcabcabcabcabcabcabcabcabcabcabcabcabcabcabcabcabcabcabcabcabcabcabcabcabcabcabcabcabcabcabcabcabcabcabcabcabcabcabcabcabcabcabcabcabcabcabcabcabcabcabcabcabcabcabcabcabcabcabcabcabcabcabcabcabc\n"
     ]
    }
   ],
   "source": [
    "# Inicjalizacja zmiennej stringowej(tekst) może nią być również pojedyńczy znak\n",
    "# Zmienne stringowe możemy traktować jak listy\n",
    "c = 'abc'\n",
    "print(c)\n",
    "print('Wiecej c', end='\\n')\n",
    "print(c * 100)"
   ]
  },
  {
   "cell_type": "markdown",
   "metadata": {},
   "source": [
    "### Słownik"
   ]
  },
  {
   "cell_type": "code",
   "execution_count": 11,
   "metadata": {},
   "outputs": [
    {
     "data": {
      "text/plain": [
       "'jest super'"
      ]
     },
     "execution_count": 11,
     "metadata": {},
     "output_type": "execute_result"
    }
   ],
   "source": [
    "# Słownik -> tablica asocjacyjna\n",
    "# Jest to struktura która, przechowuje klucz i wartość -> klucz:wartość przez co możemy \"odpytując\" \n",
    "# o odpowiedni klucz otrzymać wartośc mu przypisaną\n",
    "# Deklaracja pustego słownika\n",
    "d = {}\n",
    "\n",
    "# UWAGA: SŁOWNIK MOŻE ZAWIERAĆ W SOBIE INNY SŁOWNIK!\n",
    "# Klucze można dodawać do istniejącego dicta (słownika)\n",
    "\n",
    "# Przypisanie kluczowi 'python' wartości 'jest super'\n",
    "d['python'] = 'jest super'\n",
    "# Wyciągnięcie wartości przypisanej do klucza 'python'\n",
    "d['python']"
   ]
  },
  {
   "cell_type": "markdown",
   "metadata": {},
   "source": [
    "### Zmienna logiczna (bool)"
   ]
  },
  {
   "cell_type": "code",
   "execution_count": 13,
   "metadata": {},
   "outputs": [
    {
     "data": {
      "text/plain": [
       "True"
      ]
     },
     "execution_count": 13,
     "metadata": {},
     "output_type": "execute_result"
    }
   ],
   "source": [
    "# Inicjalizacja zmiennej bool-owskiej -> przyjmuje True - prawda, albo False - fałsz\n",
    "e = True\n",
    "e"
   ]
  },
  {
   "cell_type": "markdown",
   "metadata": {},
   "source": [
    "### Lista"
   ]
  },
  {
   "cell_type": "code",
   "execution_count": 2,
   "metadata": {},
   "outputs": [
    {
     "name": "stdout",
     "output_type": "stream",
     "text": [
      "Empty list []\n",
      "\n",
      "Append [5]\n",
      "\n",
      "Remove []\n",
      "\n",
      "List ['a', 5, 2.9, True]\n",
      "\n",
      "Pop ['a', 5, 2.9]\n",
      "\n",
      "[1, 5, 4, 6, 7]\n",
      "\n",
      "Sort [1, 4, 5, 6, 7]\n",
      "\n",
      "Reverse [7, 6, 5, 4, 1]\n",
      "\n",
      "Comprehension [0, 10, 20, 30, 40, 50]\n",
      "\n",
      "i[0] =  0\n",
      "\n",
      "i[-1] =  50\n",
      "\n",
      "i[1:5] =  [10, 20, 30, 40]\n",
      "\n",
      "Len 6\n",
      "\n"
     ]
    }
   ],
   "source": [
    "# Inicjalizacja listy -> lista przechowuje nam różne elementy\n",
    "\n",
    "# Pusta lista\n",
    "f = []\n",
    "print('Empty list', f, end='\\n\\n')\n",
    "\n",
    "# Dodanie do listy 5\n",
    "f.append(5)\n",
    "print('Append', f, end='\\n\\n')\n",
    "\n",
    "# Usuwanie z listy 5\n",
    "f.remove(5)\n",
    "print('Remove', f, end='\\n\\n')\n",
    "\n",
    "# Listy mogę przechowywać zmienne różnego typu\n",
    "g = ['a', 5, 2.9, True]\n",
    "print('List', g, end='\\n\\n')\n",
    "\n",
    "# Usunięcie ostatniego elemntu z listy, można usuwać indexy podane w pop\n",
    "g.pop()\n",
    "print('Pop', g, end='\\n\\n')\n",
    "\n",
    "h = [1, 5, 4, 6, 7]\n",
    "print(h, end='\\n\\n')\n",
    "\n",
    "# Sortowanie listy h\n",
    "h.sort()\n",
    "print('Sort', h, end='\\n\\n')\n",
    "\n",
    "# Zapisanie tablicy od tyłu\n",
    "h.reverse()\n",
    "# h = print(h[::-1]) <- inny sposób powyższego \n",
    "print('Reverse', h, end='\\n\\n')\n",
    "\n",
    "# List comprehensions\n",
    "i = [x for x in range(0, 60, 10)]\n",
    "print('Comprehension', i, end='\\n\\n')\n",
    "\n",
    "# Wypisanie wartości o indexie 0\n",
    "print('i[0] = ', i[0], end='\\n\\n')\n",
    "\n",
    "# Wypisanie ostaniej liczby\n",
    "print('i[-1] = ', i[-1], end='\\n\\n')\n",
    "\n",
    "# Wypisanie wartości o indexach z zakresu tzw. slice\n",
    "print('i[1:5] = ', i[1:5], end='\\n\\n')\n",
    "\n",
    "# Długość listy\n",
    "print('Len', len(i), end='\\n\\n') "
   ]
  },
  {
   "cell_type": "markdown",
   "metadata": {},
   "source": [
    "### Tuple"
   ]
  },
  {
   "cell_type": "code",
   "execution_count": 3,
   "metadata": {},
   "outputs": [
    {
     "name": "stdout",
     "output_type": "stream",
     "text": [
      "Tuple (1, 2)\n",
      "\n"
     ]
    }
   ],
   "source": [
    "# Tuple - tzw. krotki niezmienne listy, nie pozwalają na zmianę elementów zawartych w nich\n",
    "j = (1, 2)\n",
    "print('Tuple', j, end='\\n\\n')"
   ]
  },
  {
   "cell_type": "markdown",
   "metadata": {},
   "source": [
    "### Set"
   ]
  },
  {
   "cell_type": "code",
   "execution_count": 8,
   "metadata": {},
   "outputs": [
    {
     "name": "stdout",
     "output_type": "stream",
     "text": [
      "Tomek\n",
      "Python\n",
      "Machine Learning\n"
     ]
    }
   ],
   "source": [
    "# Set - nieuporządkowana kolekcja\n",
    "x = {\"Tomek\", \"Python\", \"Machine Learning\"}\n",
    "for i in x:\n",
    "    print(i)"
   ]
  },
  {
   "cell_type": "markdown",
   "metadata": {},
   "source": [
    "### Istnieją jeszcze: namedTuple, deque, ChainMap, Counter, OrderedDict, defaultDict\n",
    "### UserDict, UserList, UserString"
   ]
  },
  {
   "cell_type": "markdown",
   "metadata": {},
   "source": [
    "## 2. Operacje arytmetyczne"
   ]
  },
  {
   "cell_type": "markdown",
   "metadata": {},
   "source": [
    "### Dodawanie"
   ]
  },
  {
   "cell_type": "code",
   "execution_count": 30,
   "metadata": {},
   "outputs": [
    {
     "data": {
      "text/plain": [
       "11"
      ]
     },
     "execution_count": 30,
     "metadata": {},
     "output_type": "execute_result"
    }
   ],
   "source": [
    "a = 5\n",
    "b = 6\n",
    "# a += b\n",
    "a + b"
   ]
  },
  {
   "cell_type": "markdown",
   "metadata": {},
   "source": [
    "### Odejmowanie"
   ]
  },
  {
   "cell_type": "code",
   "execution_count": 39,
   "metadata": {},
   "outputs": [
    {
     "data": {
      "text/plain": [
       "5"
      ]
     },
     "execution_count": 39,
     "metadata": {},
     "output_type": "execute_result"
    }
   ],
   "source": [
    "a = 10\n",
    "b = 5\n",
    "# a -= b\n",
    "a - b"
   ]
  },
  {
   "cell_type": "markdown",
   "metadata": {},
   "source": [
    "### Mnożenie"
   ]
  },
  {
   "cell_type": "code",
   "execution_count": 40,
   "metadata": {},
   "outputs": [
    {
     "data": {
      "text/plain": [
       "2"
      ]
     },
     "execution_count": 40,
     "metadata": {},
     "output_type": "execute_result"
    }
   ],
   "source": [
    "a = 1\n",
    "b = 2\n",
    "# a *= b\n",
    "a * b"
   ]
  },
  {
   "cell_type": "markdown",
   "metadata": {},
   "source": [
    "### Dzielenie"
   ]
  },
  {
   "cell_type": "code",
   "execution_count": 44,
   "metadata": {},
   "outputs": [
    {
     "data": {
      "text/plain": [
       "2.6666666666666665"
      ]
     },
     "execution_count": 44,
     "metadata": {},
     "output_type": "execute_result"
    }
   ],
   "source": [
    "a = 8\n",
    "b = 3\n",
    "# a /= b\n",
    "a / b"
   ]
  },
  {
   "cell_type": "markdown",
   "metadata": {},
   "source": [
    "### Dzielenie całkowite"
   ]
  },
  {
   "cell_type": "code",
   "execution_count": 43,
   "metadata": {},
   "outputs": [
    {
     "data": {
      "text/plain": [
       "2"
      ]
     },
     "execution_count": 43,
     "metadata": {},
     "output_type": "execute_result"
    }
   ],
   "source": [
    "a = 8\n",
    "b = 3\n",
    "a // b"
   ]
  },
  {
   "cell_type": "markdown",
   "metadata": {},
   "source": [
    "### Reszta z dzielenia (modulo)"
   ]
  },
  {
   "cell_type": "code",
   "execution_count": 45,
   "metadata": {},
   "outputs": [
    {
     "data": {
      "text/plain": [
       "2"
      ]
     },
     "execution_count": 45,
     "metadata": {},
     "output_type": "execute_result"
    }
   ],
   "source": [
    "a = 8\n",
    "b = 3\n",
    "a % b"
   ]
  },
  {
   "cell_type": "markdown",
   "metadata": {},
   "source": [
    "### Potęgowanie"
   ]
  },
  {
   "cell_type": "code",
   "execution_count": 46,
   "metadata": {},
   "outputs": [
    {
     "data": {
      "text/plain": [
       "1.4142135623730951"
      ]
     },
     "execution_count": 46,
     "metadata": {},
     "output_type": "execute_result"
    }
   ],
   "source": [
    "a = 2\n",
    "b = 1/2\n",
    "a ** b"
   ]
  }
 ],
 "metadata": {
  "kernelspec": {
   "display_name": "Python 3",
   "language": "python",
   "name": "python3"
  },
  "language_info": {
   "codemirror_mode": {
    "name": "ipython",
    "version": 3
   },
   "file_extension": ".py",
   "mimetype": "text/x-python",
   "name": "python",
   "nbconvert_exporter": "python",
   "pygments_lexer": "ipython3",
   "version": "3.7.3"
  }
 },
 "nbformat": 4,
 "nbformat_minor": 2
}
