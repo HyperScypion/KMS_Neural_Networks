{
 "cells": [
  {
   "cell_type": "markdown",
   "metadata": {},
   "source": [
    "### Funkcja niezwracająca niczego"
   ]
  },
  {
   "cell_type": "code",
   "execution_count": 3,
   "metadata": {},
   "outputs": [
    {
     "name": "stdout",
     "output_type": "stream",
     "text": [
      "10 5\n"
     ]
    }
   ],
   "source": [
    "# Definicja funkcji\n",
    "def funkcja(a, b):\n",
    "    print(a, b)\n",
    "\n",
    "# Wywołanie funkcji\n",
    "funkcja(10, 5)"
   ]
  },
  {
   "cell_type": "markdown",
   "metadata": {},
   "source": [
    "### Funkcja zwracająca wyjście"
   ]
  },
  {
   "cell_type": "code",
   "execution_count": 10,
   "metadata": {},
   "outputs": [
    {
     "name": "stdout",
     "output_type": "stream",
     "text": [
      "10 5\n",
      "(10, 5) <class 'tuple'>\n",
      "10 5\n",
      "10 5 <class 'int'> <class 'int'>\n"
     ]
    }
   ],
   "source": [
    "def funkcja(a, b):\n",
    "    print(a, b)\n",
    "    return a, b\n",
    "\n",
    "# Zwrócenie tupli\n",
    "a = funkcja(10, 5)\n",
    "print(a, type(a))\n",
    "\n",
    "# Zwrócenie intów\n",
    "a, b = funkcja(10, 5)\n",
    "print(a, b, type(a), type(b))"
   ]
  },
  {
   "cell_type": "markdown",
   "metadata": {},
   "source": [
    "### Funkcja z tzw. type hint-ami"
   ]
  },
  {
   "cell_type": "code",
   "execution_count": 30,
   "metadata": {},
   "outputs": [
    {
     "name": "stdout",
     "output_type": "stream",
     "text": [
      "True <class 'bool'>\n"
     ]
    }
   ],
   "source": [
    "# Type hinty nie wpływają na to co funkcja przyjmuje czy też zwraca, ma natomiast pomóc nam debugować \n",
    "# błędnie napisany kod\n",
    "def funkcja2(a:int, b:float) -> bool:\n",
    "    if a > b:\n",
    "        return True\n",
    "    else:\n",
    "        return False\n",
    "    \n",
    "result = funkcja2(10, 5)\n",
    "print(result, type(result))"
   ]
  },
  {
   "cell_type": "markdown",
   "metadata": {},
   "source": [
    "### Funkcje zmiennej ilości argumentów"
   ]
  },
  {
   "cell_type": "code",
   "execution_count": 39,
   "metadata": {},
   "outputs": [
    {
     "name": "stdout",
     "output_type": "stream",
     "text": [
      "(3, 4, 5, 6, 7, 8, 9, 10)\n",
      "\n",
      "a + b = 3\n",
      "a = 1\n",
      "b = 2\n"
     ]
    }
   ],
   "source": [
    "# Zmienna c jest listą zmiennych, która przechowuje wszystkie argumenty przekazane funkcji poza pierwszymi dwoma \n",
    "# argumentam\n",
    "\n",
    "def funkcja(a, b, *c):\n",
    "    print(c, end='\\n\\n')\n",
    "    \n",
    "c = funkcja(1, 2, 3, 4, 5, 6, 7, 8, 9, 10)\n",
    "c\n",
    "\n",
    "# Argumenty do funkcji można przesyłać także za pomocą słów-kluczy, \n",
    "# dzięki czemu kolejność w jakiej zostały podane argumenty nie ma znaczenia:\n",
    "\n",
    "def funkcja(a, b, **c):\n",
    "    if c.get('akcja') == 'dodaj':\n",
    "        print('a + b =', a + b)\n",
    "    if c.get('opcja') == 'wypisz':\n",
    "        print('a = {}\\nb = {}'.format(a, b))\n",
    "        \n",
    "funkcja(1, 2, akcja='dodaj', opcja='wypisz')\n",
    "\n",
    "# Źródło: https://www.learnpython.org/pl/Funkcje_o_zmiennej_liczbie_argumentow"
   ]
  },
  {
   "cell_type": "markdown",
   "metadata": {},
   "source": [
    "### Często spotykane kwargs i args w kodzie jest niczym innym jak c w powyższym przykładzie"
   ]
  },
  {
   "cell_type": "code",
   "execution_count": 40,
   "metadata": {},
   "outputs": [],
   "source": [
    "# https://printpython.pl/poczatki/zadanie-z-gwiazdka/"
   ]
  },
  {
   "cell_type": "markdown",
   "metadata": {},
   "source": [
    "### Lambda"
   ]
  },
  {
   "cell_type": "code",
   "execution_count": 19,
   "metadata": {},
   "outputs": [
    {
     "name": "stdout",
     "output_type": "stream",
     "text": [
      "7\n",
      "6\n",
      "6\n",
      "6\n"
     ]
    }
   ],
   "source": [
    "# Lambda to nic innego jak prosta jednolinijkowa funkcja\n",
    "x = lambda a : a + 2\n",
    "print(x(5))\n",
    "\n",
    "\n",
    "def f(x):\n",
    "    return x*2\n",
    "        \n",
    "print(f(3))\n",
    "\n",
    "g = lambda x: x*2      \n",
    "print(g(3))\n",
    "\n",
    "print((lambda x: x*2)(3))\n",
    "\n",
    "# Po więcej odsyłam do źródeł: https://pl.wikibooks.org/wiki/Zanurkuj_w_Pythonie/Wyrażenia_lambda"
   ]
  },
  {
   "cell_type": "markdown",
   "metadata": {},
   "source": [
    "### Funkcje zwracające generator"
   ]
  },
  {
   "cell_type": "code",
   "execution_count": 35,
   "metadata": {},
   "outputs": [
    {
     "name": "stdout",
     "output_type": "stream",
     "text": [
      "2\n",
      "4\n",
      "8\n",
      "16\n",
      "32\n",
      "64\n",
      "128\n",
      "256\n",
      "512\n",
      "1024\n",
      "2048\n",
      "4096\n",
      "8192\n",
      "16384\n",
      "32768\n",
      "65536\n",
      "131072\n",
      "262144\n",
      "524288\n",
      "1048576\n",
      "2097152\n",
      "4194304\n",
      "8388608\n",
      "16777216\n",
      "33554432\n",
      "67108864\n",
      "134217728\n",
      "268435456\n",
      "536870912\n",
      "1073741824\n",
      "2147483648\n",
      "4294967296\n",
      "8589934592\n",
      "17179869184\n",
      "34359738368\n",
      "68719476736\n",
      "137438953472\n",
      "274877906944\n",
      "549755813888\n",
      "1099511627776\n",
      "2199023255552\n",
      "4398046511104\n",
      "8796093022208\n",
      "17592186044416\n",
      "35184372088832\n",
      "70368744177664\n",
      "140737488355328\n",
      "281474976710656\n",
      "562949953421312\n",
      "1125899906842624\n",
      "2251799813685248\n",
      "4503599627370496\n",
      "9007199254740992\n",
      "18014398509481984\n",
      "36028797018963968\n",
      "72057594037927936\n",
      "144115188075855872\n",
      "288230376151711744\n",
      "576460752303423488\n",
      "1152921504606846976\n",
      "2305843009213693952\n",
      "4611686018427387904\n",
      "9223372036854775808\n",
      "18446744073709551616\n",
      "36893488147419103232\n",
      "73786976294838206464\n",
      "147573952589676412928\n",
      "295147905179352825856\n",
      "590295810358705651712\n",
      "1180591620717411303424\n",
      "2361183241434822606848\n",
      "4722366482869645213696\n",
      "9444732965739290427392\n",
      "18889465931478580854784\n",
      "37778931862957161709568\n",
      "75557863725914323419136\n",
      "151115727451828646838272\n",
      "302231454903657293676544\n",
      "604462909807314587353088\n",
      "1208925819614629174706176\n",
      "2417851639229258349412352\n",
      "4835703278458516698824704\n",
      "9671406556917033397649408\n",
      "19342813113834066795298816\n",
      "38685626227668133590597632\n",
      "77371252455336267181195264\n",
      "154742504910672534362390528\n",
      "309485009821345068724781056\n",
      "618970019642690137449562112\n",
      "1237940039285380274899124224\n",
      "2475880078570760549798248448\n",
      "4951760157141521099596496896\n",
      "9903520314283042199192993792\n",
      "19807040628566084398385987584\n",
      "39614081257132168796771975168\n",
      "79228162514264337593543950336\n",
      "158456325028528675187087900672\n",
      "316912650057057350374175801344\n",
      "633825300114114700748351602688\n",
      "1267650600228229401496703205376\n"
     ]
    }
   ],
   "source": [
    "# https://chyla.org/blog/Python_-_Generatory/\n",
    "def gen(a, b):\n",
    "    for i in range(b):\n",
    "        a += a\n",
    "        yield a\n",
    "\n",
    "generator = gen(1, 100)\n",
    "for i in generator:\n",
    "    print(i)"
   ]
  },
  {
   "cell_type": "markdown",
   "metadata": {},
   "source": [
    "## Dekoratory funkcji"
   ]
  },
  {
   "cell_type": "markdown",
   "metadata": {},
   "source": [
    "### Opakowywanie funkcji"
   ]
  },
  {
   "cell_type": "code",
   "execution_count": 6,
   "metadata": {},
   "outputs": [
    {
     "data": {
      "text/plain": [
       "6"
      ]
     },
     "execution_count": 6,
     "metadata": {},
     "output_type": "execute_result"
    }
   ],
   "source": [
    "# Przykład funkcji, która tworzy nową funkcję i zwraca ją jako wynik. \n",
    "# W tym wypadku utworz_dodawanie tworzy funkcję, która dodaje stałą do jej argumentu:\n",
    "\n",
    "def utworz_dodawanie(x):\n",
    "    def dodaj(y):\n",
    "        return x + y\n",
    "    return dodaj\n",
    "\n",
    "f = utworz_dodawanie(5)\n",
    "f(1)"
   ]
  },
  {
   "cell_type": "code",
   "execution_count": 19,
   "metadata": {},
   "outputs": [
    {
     "name": "stdout",
     "output_type": "stream",
     "text": [
      "funkcja Docstring __main__\n",
      "funkcja_z_dekoratorem None __main__\n"
     ]
    }
   ],
   "source": [
    "def pokaz_wywolanie(f):\n",
    "    def opakowanie(*args, **kwds):\n",
    "        print('Wywoluje:', f.__name__)\n",
    "        return f(*args, **kwds)\n",
    "    # Atrybuty oryginalnego obiektu funkcji mogą być zachowane \n",
    "    # poprzez skopiowanie ich z funkcji oryginalnej.\n",
    "    # To samo możemy zrobić wstawiając przed def opakowanie(...) @wraps(f)\n",
    "    # wraps znajduje się w functools\n",
    "    opakowanie.__name__ = f.__name__\n",
    "    opakowanie.__doc__ = f.__doc__\n",
    "    opakowanie.__module__ = f.__module__\n",
    "    return opakowanie\n",
    "\n",
    "\n",
    "def funkcja():\n",
    "    '''Docstring'''\n",
    "    pass\n",
    "\n",
    "print(funkcja.__name__, funkcja.__doc__, funkcja.__module__)\n",
    "\n",
    "@pokaz_wywolanie\n",
    "def funkcja_z_dekoratorem():\n",
    "    pass\n",
    "\n",
    "funkcja_z_dekoratorem2 = pokaz_wywolanie(funkcja_z_dekoratorem)\n",
    "print(funkcja_z_dekoratorem2.__name__, funkcja_z_dekoratorem2.__doc__, funkcja_z_dekoratorem2.__module__)"
   ]
  },
  {
   "cell_type": "markdown",
   "metadata": {},
   "source": [
    "## Break, continue, pass"
   ]
  },
  {
   "cell_type": "code",
   "execution_count": 34,
   "metadata": {},
   "outputs": [
    {
     "name": "stdout",
     "output_type": "stream",
     "text": [
      "1\n",
      "2\n",
      "3\n",
      "3\n",
      "4\n",
      "5\n",
      "6\n",
      "7\n",
      "8\n",
      "9\n",
      "10\n"
     ]
    }
   ],
   "source": [
    "# Continue przeskakuje do następnego kroku w pętli\n",
    "# Break przerywa wykonywnanie pętli\n",
    "# Pass nie podejmuje żadnych kroków\n",
    "i = 0\n",
    "while(i < 100):\n",
    "    \n",
    "    i += 1\n",
    "    print(i)\n",
    "    \n",
    "    if i == 10:\n",
    "        break\n",
    "        \n",
    "    if i % 2 == 0:\n",
    "        continue\n",
    "        # Ten print nie zostanie wykonany\n",
    "        print('a')\n",
    "        \n",
    "    if i == 3:\n",
    "        pass\n",
    "        # Ten print nie zostanie wykonany\n",
    "        print(i)"
   ]
  }
 ],
 "metadata": {
  "kernelspec": {
   "display_name": "Python 3",
   "language": "python",
   "name": "python3"
  },
  "language_info": {
   "codemirror_mode": {
    "name": "ipython",
    "version": 3
   },
   "file_extension": ".py",
   "mimetype": "text/x-python",
   "name": "python",
   "nbconvert_exporter": "python",
   "pygments_lexer": "ipython3",
   "version": "3.7.3"
  }
 },
 "nbformat": 4,
 "nbformat_minor": 2
}
