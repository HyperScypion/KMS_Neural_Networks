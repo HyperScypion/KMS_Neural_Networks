{
 "cells": [
  {
   "cell_type": "markdown",
   "metadata": {},
   "source": [
    "# Klasy"
   ]
  },
  {
   "cell_type": "code",
   "execution_count": 1,
   "metadata": {},
   "outputs": [],
   "source": [
    "# Importowanie modułu\n",
    "import numpy as np"
   ]
  },
  {
   "cell_type": "markdown",
   "metadata": {},
   "source": [
    "## Życie obiektu"
   ]
  },
  {
   "cell_type": "code",
   "execution_count": 64,
   "metadata": {},
   "outputs": [],
   "source": [
    "# Obiekt musi być przypisany do jakiejś zmiennej. \n",
    "# Po tym jak żadne zmienne nie wskazują na obiekt, przestaje on być potrzebny i będzie później zniszczony. \n",
    "# Innymi słowy, jeśli chcemy żeby nasz obiekt żył szczęśliwie, to musimy go mieć przypisanego przez cały \n",
    "# czas do przynajmniej jednej zmiennej, dzięki temu wiemy, że nie zostanie zniszczony. "
   ]
  },
  {
   "cell_type": "markdown",
   "metadata": {},
   "source": [
    "## Śmierć obiektu"
   ]
  },
  {
   "cell_type": "code",
   "execution_count": 63,
   "metadata": {},
   "outputs": [],
   "source": [
    "# Python niszczy obiekty kiedy stają się niepotrzebne. \n",
    "# Niepotrzebnym jest obiekt, który nie jest przypisany do żadnej nazwy. \n",
    "# Obiekt ma wbudowany licznik referencji. Przypisanie obiektu do dowolnej zmiennej \n",
    "# zwiększa ten licznik o 1, a usunięcie zmiennej (skasowanie zmiennej przez del, \n",
    "# przypisanie do zmiennej innego obiektu lub „zniknięcie” zmiennej po zakończeniu funkcji) — zmniejsza o 1.\n",
    "\n",
    "# Obiekt żyje co najmniej tak długo, jak długo jego licznik referencji jest większy od 0.\n",
    "\n",
    "# Zanim obiekt zostanie zniszczony, zostanie wywołana jego metoda __del__. \n",
    "# Jej zadaniem jest wykonanie działań takich jak zamknięcie plików, które muszą być zamknięte \n",
    "# wraz ze zniszczeniem obiektu. Niemniej, moment destrukcji obiektu jest trudny do przewidzenia, \n",
    "# więc mechanizm __del__ jest bardzo zawodny. Nie należy go używać. \n",
    "\n",
    "# Przykładowo \n",
    "# >>> x = Klasa()\n",
    "# >>> del x\n",
    "# Powyższy kod spowoduje usunięcie zmiennej, ale nie obiektu\n",
    "# W tym momencie jego licznik referencji {{ang|reference count, czyli sposobów na który \n",
    "# można dotrzeć do obiektu, wynosi 0. Obiekt zostanie niedługo zlikwidowany. "
   ]
  },
  {
   "cell_type": "markdown",
   "metadata": {},
   "source": [
    "## Konstruktor, destruktor, a także metoda __str__"
   ]
  },
  {
   "cell_type": "code",
   "execution_count": 62,
   "metadata": {},
   "outputs": [],
   "source": [
    "class Figura:\n",
    "    # Zmienna w klasie\n",
    "    zmienna = 5\n",
    "    def __init__(self, bok):\n",
    "        print('Cześć jestem konstruktor z polem publicznym bok')\n",
    "        self.bok = bok\n",
    "        \n",
    "    def __del__(self):\n",
    "        self.bok = 1\n",
    "        print('Cześć jestem destruktor')\n",
    "        \n",
    "    def __str__(self):\n",
    "        # Metoda służąca do wytwarzania tekstowej reprezentacji obiektu. \n",
    "        # Jest automatycznie wywoływana np. przez polecenie print.\n",
    "        return 'Figura o boku równym {}'.format(self.bok)"
   ]
  },
  {
   "cell_type": "code",
   "execution_count": 61,
   "metadata": {},
   "outputs": [
    {
     "name": "stdout",
     "output_type": "stream",
     "text": [
      "Cześć jestem konstruktor z polem publicznym bok\n",
      "Cześć jestem destruktor\n",
      "Cześć jestem destruktor\n",
      "Figura o boku równym 1\n",
      "Figura o boku równym 1\n"
     ]
    }
   ],
   "source": [
    "k = Figura(6)\n",
    "k.__del__()\n",
    "k.bok\n",
    "print(k)\n",
    "print(k.__str__())"
   ]
  },
  {
   "cell_type": "markdown",
   "metadata": {},
   "source": [
    "### Więcej informacji: https://brain.fuw.edu.pl/edu/index.php/TI/Wst%C4%99p_do_programowania_obiektowego#Metoda_str"
   ]
  },
  {
   "cell_type": "markdown",
   "metadata": {},
   "source": [
    "## Dostęp do pól w klasie oraz zmiennych "
   ]
  },
  {
   "cell_type": "code",
   "execution_count": 43,
   "metadata": {},
   "outputs": [
    {
     "name": "stdout",
     "output_type": "stream",
     "text": [
      "Tomasz\n",
      "derek\n"
     ]
    },
    {
     "ename": "AttributeError",
     "evalue": "'Student' object has no attribute '__password'",
     "output_type": "error",
     "traceback": [
      "\u001b[0;31m---------------------------------------------------------------------------\u001b[0m",
      "\u001b[0;31mAttributeError\u001b[0m                            Traceback (most recent call last)",
      "\u001b[0;32m<ipython-input-43-f509a526fff2>\u001b[0m in \u001b[0;36m<module>\u001b[0;34m()\u001b[0m\n\u001b[1;32m     13\u001b[0m \u001b[0mprint\u001b[0m\u001b[0;34m(\u001b[0m\u001b[0ms\u001b[0m\u001b[0;34m.\u001b[0m\u001b[0m_login\u001b[0m\u001b[0;34m)\u001b[0m\u001b[0;34m\u001b[0m\u001b[0;34m\u001b[0m\u001b[0m\n\u001b[1;32m     14\u001b[0m \u001b[0;31m# Wystąpi błąd ze względu na brak możliwości dostępu do pola prywatnego\u001b[0m\u001b[0;34m\u001b[0m\u001b[0;34m\u001b[0m\u001b[0;34m\u001b[0m\u001b[0m\n\u001b[0;32m---> 15\u001b[0;31m \u001b[0mprint\u001b[0m\u001b[0;34m(\u001b[0m\u001b[0ms\u001b[0m\u001b[0;34m.\u001b[0m\u001b[0m__password\u001b[0m\u001b[0;34m)\u001b[0m\u001b[0;34m\u001b[0m\u001b[0;34m\u001b[0m\u001b[0m\n\u001b[0m",
      "\u001b[0;31mAttributeError\u001b[0m: 'Student' object has no attribute '__password'"
     ]
    }
   ],
   "source": [
    "# Klasa student zawiera publiczne pola: index, imie, nazwisko, chronione: login, prywatne: password\n",
    "\n",
    "class Student:\n",
    "    def __init__(self, index:int, imie:str, nazwisko:str, login:str, password:str):\n",
    "        self.index = index\n",
    "        self.imie = imie\n",
    "        self.nazwisko = nazwisko\n",
    "        self._login = login\n",
    "        self.__password = password\n",
    "        \n",
    "s = Student(291873, 'Tomasz', 'Derek', 'derek', 'xD')\n",
    "\n",
    "print(s.imie)\n",
    "print(s._login)\n",
    "\n",
    "# Wystąpi błąd ze względu na brak możliwości dostępu do pola prywatnego\n",
    "print(s.__password)"
   ]
  },
  {
   "cell_type": "markdown",
   "metadata": {},
   "source": [
    "## Metody i ich dekoratory"
   ]
  },
  {
   "cell_type": "code",
   "execution_count": 52,
   "metadata": {},
   "outputs": [
    {
     "name": "stdout",
     "output_type": "stream",
     "text": [
      "Adam\n",
      "Cześć Tomek\n",
      "Cześć Tomek\n"
     ]
    }
   ],
   "source": [
    "# Wszystkie metody w Pythonie są wirtualne -> \n",
    "\n",
    "class Bot:\n",
    "    def __init__(self, imie):\n",
    "        self.imie = imie\n",
    "        \n",
    "    # metoda zwaracjąca imie bota\n",
    "    def return_name(self):\n",
    "        return self.imie\n",
    "    \n",
    "    # metoda statyczna wypisująca przywitanie\n",
    "    # metoda statyczna jest to metoda klasy, która nie potrzebuje \n",
    "    # mieć dostępu do pól klasy, ani innych danych trzymanych w klasie\n",
    "    @staticmethod\n",
    "    def przywitaj():\n",
    "        print('Cześć Tomek')\n",
    "    \n",
    "    \n",
    "    # metoda wywołująca metodę przywitaj()\n",
    "    # metoda ta ma ograniczony dostęp do danych zawartych w klasie\n",
    "    # metoda ta może wywoływać metody statyczne\n",
    "    # jako argument przyjmuje cls\n",
    "    @classmethod\n",
    "    def przwitaj_usera(cls):\n",
    "        cls.przywitaj()\n",
    "    \n",
    "    \n",
    "bot = Bot('Adam')\n",
    "print(bot.return_name())\n",
    "bot.przywitaj()\n",
    "bot.przwitaj_usera()"
   ]
  },
  {
   "cell_type": "markdown",
   "metadata": {},
   "source": [
    "### Więcej informacji: https://www.makeuseof.com/tag/python-instance-static-class-methods/"
   ]
  },
  {
   "cell_type": "markdown",
   "metadata": {},
   "source": [
    "## Dziedziczenie"
   ]
  },
  {
   "cell_type": "code",
   "execution_count": 11,
   "metadata": {},
   "outputs": [],
   "source": [
    "class Perceptron:\n",
    "    # Konstruktor zawierający dwa pola publiczne input_size oraz weights\n",
    "    def __init__(self, input_size):\n",
    "        self.input_size = input_size\n",
    "        self.weights = np.zeros(self.input_size + 1)\n",
    "    \n",
    "    def activ(self, dot):\n",
    "        if dot > 0:\n",
    "            dot =  1\n",
    "        else:\n",
    "            dot = 0\n",
    "        return dot\n",
    "    \n",
    "    def predict(self, x):\n",
    "        dot = np.dot(x, self.weights[1:]) - self.weights[0]\n",
    "        dot = self.activ(dot)\n",
    "        return dot\n",
    "    \n",
    "    def fit(self, x, y, epochs, learning_rate):\n",
    "        for epoch in range(epochs):\n",
    "            loss, accuracy = 0, 0\n",
    "            print('Epoch [{}/{}]'.format(epoch+1, epochs), end=' ')\n",
    "            for data, label in zip(x, y):\n",
    "                error = label - self.predict(data)\n",
    "                if error != 0:\n",
    "                    self.weights[1:] += learning_rate * error * data\n",
    "                    self.weights[0] -= learning_rate * error\n",
    "                    loss += 0.5 * (error) ** 2\n",
    "                else:\n",
    "                    accuracy += 1\n",
    "            print('Loss:', float(loss), end=' ')\n",
    "            print('Accuracy:{}%'.format(accuracy / len(y) * 100.))\n",
    "            "
   ]
  },
  {
   "cell_type": "code",
   "execution_count": 100,
   "metadata": {},
   "outputs": [
    {
     "name": "stdout",
     "output_type": "stream",
     "text": [
      "Epoch [1/6] Loss: 1.5 Accuracy:25.0%\n",
      "Epoch [2/6] Loss: 1.0 Accuracy:50.0%\n",
      "Epoch [3/6] Loss: 1.5 Accuracy:25.0%\n",
      "Epoch [4/6] Loss: 1.0 Accuracy:50.0%\n",
      "Epoch [5/6] Loss: 1.0 Accuracy:50.0%\n",
      "Epoch [6/6] Loss: 0.0 Accuracy:100.0%\n",
      "1\n",
      "0\n",
      "0\n",
      "0\n"
     ]
    }
   ],
   "source": [
    "# DATASET\n",
    "a = np.array([[1, 1], [1, 0], [0, 1], [0, 0]])\n",
    "b = np.array([[1], [0], [0], [0]])\n",
    "# Inicjalizacja objektu\n",
    "p = Perceptron(2)\n",
    "# Trenowanie sieci\n",
    "p.fit(a, b, 6, 0.1)\n",
    "# Predykcja\n",
    "print(p.predict([1, 1]))\n",
    "print(p.predict([1, 0]))\n",
    "print(p.predict([0, 1]))\n",
    "print(p.predict([0, 0]))"
   ]
  },
  {
   "cell_type": "code",
   "execution_count": 125,
   "metadata": {},
   "outputs": [],
   "source": [
    "##TODO -> Fix it\n",
    "class Adaline(Perceptron):\n",
    "    def __init__(self, input_size):\n",
    "        super.__init__(self, input_size, input_size)\n",
    "        self.input_size = input_size"
   ]
  },
  {
   "cell_type": "code",
   "execution_count": 126,
   "metadata": {},
   "outputs": [
    {
     "ename": "TypeError",
     "evalue": "descriptor '__init__' requires a 'super' object but received a 'Adaline'",
     "output_type": "error",
     "traceback": [
      "\u001b[0;31m---------------------------------------------------------------------------\u001b[0m",
      "\u001b[0;31mTypeError\u001b[0m                                 Traceback (most recent call last)",
      "\u001b[0;32m<ipython-input-126-0e9f97107c8b>\u001b[0m in \u001b[0;36m<module>\u001b[0;34m()\u001b[0m\n\u001b[0;32m----> 1\u001b[0;31m \u001b[0mada\u001b[0m \u001b[0;34m=\u001b[0m \u001b[0mAdaline\u001b[0m\u001b[0;34m(\u001b[0m\u001b[0;36m1\u001b[0m\u001b[0;34m)\u001b[0m\u001b[0;34m\u001b[0m\u001b[0;34m\u001b[0m\u001b[0m\n\u001b[0m",
      "\u001b[0;32m<ipython-input-125-f94382dae90d>\u001b[0m in \u001b[0;36m__init__\u001b[0;34m(self, input_size)\u001b[0m\n\u001b[1;32m      1\u001b[0m \u001b[0;32mclass\u001b[0m \u001b[0mAdaline\u001b[0m\u001b[0;34m(\u001b[0m\u001b[0mPerceptron\u001b[0m\u001b[0;34m)\u001b[0m\u001b[0;34m:\u001b[0m\u001b[0;34m\u001b[0m\u001b[0;34m\u001b[0m\u001b[0m\n\u001b[1;32m      2\u001b[0m     \u001b[0;32mdef\u001b[0m \u001b[0m__init__\u001b[0m\u001b[0;34m(\u001b[0m\u001b[0mself\u001b[0m\u001b[0;34m,\u001b[0m \u001b[0minput_size\u001b[0m\u001b[0;34m)\u001b[0m\u001b[0;34m:\u001b[0m\u001b[0;34m\u001b[0m\u001b[0;34m\u001b[0m\u001b[0m\n\u001b[0;32m----> 3\u001b[0;31m         \u001b[0msuper\u001b[0m\u001b[0;34m.\u001b[0m\u001b[0m__init__\u001b[0m\u001b[0;34m(\u001b[0m\u001b[0mself\u001b[0m\u001b[0;34m,\u001b[0m \u001b[0minput_size\u001b[0m\u001b[0;34m,\u001b[0m \u001b[0minput_size\u001b[0m\u001b[0;34m)\u001b[0m\u001b[0;34m\u001b[0m\u001b[0;34m\u001b[0m\u001b[0m\n\u001b[0m\u001b[1;32m      4\u001b[0m         \u001b[0mself\u001b[0m\u001b[0;34m.\u001b[0m\u001b[0minput_size\u001b[0m \u001b[0;34m=\u001b[0m \u001b[0minput_size\u001b[0m\u001b[0;34m\u001b[0m\u001b[0;34m\u001b[0m\u001b[0m\n",
      "\u001b[0;31mTypeError\u001b[0m: descriptor '__init__' requires a 'super' object but received a 'Adaline'"
     ]
    }
   ],
   "source": [
    "ada = Adaline(1)"
   ]
  },
  {
   "cell_type": "code",
   "execution_count": null,
   "metadata": {},
   "outputs": [],
   "source": []
  }
 ],
 "metadata": {
  "kernelspec": {
   "display_name": "Python 3",
   "language": "python",
   "name": "python3"
  },
  "language_info": {
   "codemirror_mode": {
    "name": "ipython",
    "version": 3
   },
   "file_extension": ".py",
   "mimetype": "text/x-python",
   "name": "python",
   "nbconvert_exporter": "python",
   "pygments_lexer": "ipython3",
   "version": "3.7.3"
  }
 },
 "nbformat": 4,
 "nbformat_minor": 2
}
