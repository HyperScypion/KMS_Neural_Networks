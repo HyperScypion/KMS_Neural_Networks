{
 "cells": [
  {
   "cell_type": "markdown",
   "metadata": {},
   "source": [
    "# Klasy"
   ]
  },
  {
   "cell_type": "code",
   "execution_count": 1,
   "metadata": {},
   "outputs": [],
   "source": [
    "import numpy as np"
   ]
  },
  {
   "cell_type": "code",
   "execution_count": 96,
   "metadata": {},
   "outputs": [],
   "source": [
    "class Perceptron:\n",
    "    # Konstruktor zawierający dwa pola publiczne input_size oraz weights\n",
    "    def __init__(self, input_size):\n",
    "        self.input_size = input_size\n",
    "        self.weights = np.zeros(self.input_size + 1)\n",
    "    \n",
    "    def activ(self, dot):\n",
    "        if dot > 0:\n",
    "            dot =  1\n",
    "        else:\n",
    "            dot = 0\n",
    "        return dot\n",
    "    \n",
    "    def predict(self, x):\n",
    "        dot = np.dot(x, self.weights[1:]) - self.weights[0]\n",
    "        dot = self.activ(dot)\n",
    "        return dot\n",
    "    \n",
    "    def fit(self, x, y, epochs, learning_rate):\n",
    "        for epoch in range(epochs):\n",
    "            loss, accuracy = 0, 0\n",
    "            print('Epoch [{}/{}]'.format(epoch+1, epochs), end=' ')\n",
    "            for data, label in zip(x, y):\n",
    "                error = label - self.predict(data)\n",
    "                if error != 0:\n",
    "                    self.weights[1:] += learning_rate * error * data\n",
    "                    self.weights[0] -= learning_rate * error\n",
    "                    loss += 0.5 * (error) ** 2\n",
    "                else:\n",
    "                    accuracy += 1\n",
    "            print('Loss:', float(loss), end=' ')\n",
    "            print('Accuracy:{}%'.format(accuracy / len(y) * 100.))\n",
    "            "
   ]
  },
  {
   "cell_type": "code",
   "execution_count": 100,
   "metadata": {},
   "outputs": [
    {
     "name": "stdout",
     "output_type": "stream",
     "text": [
      "Epoch [1/6] Loss: 1.5 Accuracy:25.0%\n",
      "Epoch [2/6] Loss: 1.0 Accuracy:50.0%\n",
      "Epoch [3/6] Loss: 1.5 Accuracy:25.0%\n",
      "Epoch [4/6] Loss: 1.0 Accuracy:50.0%\n",
      "Epoch [5/6] Loss: 1.0 Accuracy:50.0%\n",
      "Epoch [6/6] Loss: 0.0 Accuracy:100.0%\n",
      "1\n",
      "0\n",
      "0\n",
      "0\n"
     ]
    }
   ],
   "source": [
    "# DATASET\n",
    "a = np.array([[1, 1], [1, 0], [0, 1], [0, 0]])\n",
    "b = np.array([[1], [0], [0], [0]])\n",
    "# Inicjalizacja objektu\n",
    "p = Perceptron(2)\n",
    "# Trenowanie sieci\n",
    "p.fit(a, b, 6, 0.1)\n",
    "# Predykcja\n",
    "print(p.predict([1, 1]))\n",
    "print(p.predict([1, 0]))\n",
    "print(p.predict([0, 1]))\n",
    "print(p.predict([0, 0]))"
   ]
  },
  {
   "cell_type": "code",
   "execution_count": 125,
   "metadata": {},
   "outputs": [],
   "source": [
    "##TODO -> Fix it\n",
    "class Adaline(Perceptron):\n",
    "    def __init__(self, input_size):\n",
    "        super.__init__(self, input_size, input_size)\n",
    "        self.input_size = input_size"
   ]
  },
  {
   "cell_type": "code",
   "execution_count": 126,
   "metadata": {},
   "outputs": [
    {
     "ename": "TypeError",
     "evalue": "descriptor '__init__' requires a 'super' object but received a 'Adaline'",
     "output_type": "error",
     "traceback": [
      "\u001b[0;31m---------------------------------------------------------------------------\u001b[0m",
      "\u001b[0;31mTypeError\u001b[0m                                 Traceback (most recent call last)",
      "\u001b[0;32m<ipython-input-126-0e9f97107c8b>\u001b[0m in \u001b[0;36m<module>\u001b[0;34m()\u001b[0m\n\u001b[0;32m----> 1\u001b[0;31m \u001b[0mada\u001b[0m \u001b[0;34m=\u001b[0m \u001b[0mAdaline\u001b[0m\u001b[0;34m(\u001b[0m\u001b[0;36m1\u001b[0m\u001b[0;34m)\u001b[0m\u001b[0;34m\u001b[0m\u001b[0;34m\u001b[0m\u001b[0m\n\u001b[0m",
      "\u001b[0;32m<ipython-input-125-f94382dae90d>\u001b[0m in \u001b[0;36m__init__\u001b[0;34m(self, input_size)\u001b[0m\n\u001b[1;32m      1\u001b[0m \u001b[0;32mclass\u001b[0m \u001b[0mAdaline\u001b[0m\u001b[0;34m(\u001b[0m\u001b[0mPerceptron\u001b[0m\u001b[0;34m)\u001b[0m\u001b[0;34m:\u001b[0m\u001b[0;34m\u001b[0m\u001b[0;34m\u001b[0m\u001b[0m\n\u001b[1;32m      2\u001b[0m     \u001b[0;32mdef\u001b[0m \u001b[0m__init__\u001b[0m\u001b[0;34m(\u001b[0m\u001b[0mself\u001b[0m\u001b[0;34m,\u001b[0m \u001b[0minput_size\u001b[0m\u001b[0;34m)\u001b[0m\u001b[0;34m:\u001b[0m\u001b[0;34m\u001b[0m\u001b[0;34m\u001b[0m\u001b[0m\n\u001b[0;32m----> 3\u001b[0;31m         \u001b[0msuper\u001b[0m\u001b[0;34m.\u001b[0m\u001b[0m__init__\u001b[0m\u001b[0;34m(\u001b[0m\u001b[0mself\u001b[0m\u001b[0;34m,\u001b[0m \u001b[0minput_size\u001b[0m\u001b[0;34m,\u001b[0m \u001b[0minput_size\u001b[0m\u001b[0;34m)\u001b[0m\u001b[0;34m\u001b[0m\u001b[0;34m\u001b[0m\u001b[0m\n\u001b[0m\u001b[1;32m      4\u001b[0m         \u001b[0mself\u001b[0m\u001b[0;34m.\u001b[0m\u001b[0minput_size\u001b[0m \u001b[0;34m=\u001b[0m \u001b[0minput_size\u001b[0m\u001b[0;34m\u001b[0m\u001b[0;34m\u001b[0m\u001b[0m\n",
      "\u001b[0;31mTypeError\u001b[0m: descriptor '__init__' requires a 'super' object but received a 'Adaline'"
     ]
    }
   ],
   "source": [
    "ada = Adaline(1)"
   ]
  },
  {
   "cell_type": "code",
   "execution_count": null,
   "metadata": {},
   "outputs": [],
   "source": []
  }
 ],
 "metadata": {
  "kernelspec": {
   "display_name": "Python 3",
   "language": "python",
   "name": "python3"
  },
  "language_info": {
   "codemirror_mode": {
    "name": "ipython",
    "version": 3
   },
   "file_extension": ".py",
   "mimetype": "text/x-python",
   "name": "python",
   "nbconvert_exporter": "python",
   "pygments_lexer": "ipython3",
   "version": "3.7.3"
  }
 },
 "nbformat": 4,
 "nbformat_minor": 2
}
