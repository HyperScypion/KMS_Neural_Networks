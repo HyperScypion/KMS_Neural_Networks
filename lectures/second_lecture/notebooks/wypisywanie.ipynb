{
 "cells": [
  {
   "cell_type": "code",
   "execution_count": 1,
   "metadata": {},
   "outputs": [
    {
     "name": "stdout",
     "output_type": "stream",
     "text": [
      "xD\n"
     ]
    }
   ],
   "source": [
    "print('xD')"
   ]
  },
  {
   "cell_type": "code",
   "execution_count": 2,
   "metadata": {},
   "outputs": [
    {
     "name": "stdout",
     "output_type": "stream",
     "text": [
      "'xD'\n"
     ]
    }
   ],
   "source": [
    "print(\"'xD'\")"
   ]
  },
  {
   "cell_type": "code",
   "execution_count": 3,
   "metadata": {},
   "outputs": [
    {
     "name": "stdout",
     "output_type": "stream",
     "text": [
      "\"xD\"\n"
     ]
    }
   ],
   "source": [
    "print('\"xD\"')"
   ]
  },
  {
   "cell_type": "code",
   "execution_count": 12,
   "metadata": {},
   "outputs": [
    {
     "name": "stdout",
     "output_type": "stream",
     "text": [
      "a * b = 50\n",
      "a * b = 50\n",
      "a * b = 50\n",
      "a * b = 50\n",
      "a * b = 50\n"
     ]
    }
   ],
   "source": [
    "a = 5\n",
    "b = 10\n",
    "print('a * b =', a * b)\n",
    "print('a * b = %d' % (a * b))\n",
    "print('a * b = ' + str(a * b))\n",
    "print('a * b = {}'.format(a * b))\n",
    "print('a * b = {0}'.format(a * b))"
   ]
  }
 ],
 "metadata": {
  "kernelspec": {
   "display_name": "Python 3",
   "language": "python",
   "name": "python3"
  },
  "language_info": {
   "codemirror_mode": {
    "name": "ipython",
    "version": 3
   },
   "file_extension": ".py",
   "mimetype": "text/x-python",
   "name": "python",
   "nbconvert_exporter": "python",
   "pygments_lexer": "ipython3",
   "version": "3.7.3"
  }
 },
 "nbformat": 4,
 "nbformat_minor": 2
}
